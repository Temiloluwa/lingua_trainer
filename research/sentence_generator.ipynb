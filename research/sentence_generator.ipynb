{
 "cells": [
  {
   "cell_type": "code",
   "execution_count": null,
   "metadata": {},
   "outputs": [],
   "source": [
    "import re\n",
    "import json\n",
    "from aiflow.llm import OpenAI\n",
    "from aiflow.prompter import (\n",
    "                        SystemPrompter, \n",
    "                        UserPrompter)\n",
    "\n",
    "gpt = OpenAI(temperature=1)"
   ]
  },
  {
   "cell_type": "code",
   "execution_count": null,
   "metadata": {},
   "outputs": [],
   "source": [
    "german_word = \"schwer\"\n",
    "number_of_sentences = 3"
   ]
  },
  {
   "cell_type": "code",
   "execution_count": null,
   "metadata": {},
   "outputs": [],
   "source": [
    "def word_explanator(german_word, llm=gpt):\n",
    "    system_prompt = SystemPrompter(\"\"\"\n",
    "        You are a fluent German speaker that is great at following instructions. \n",
    "    \"\"\")\n",
    "\n",
    "    user_prompt = UserPrompter(\"\"\"\n",
    "        Given a German word, supply the following\n",
    "        1. A explanation of the word in english in very simple terms like to a child.\n",
    "        2. Synonyms of the word if the exist\n",
    "\n",
    "        Output Format (comma seperated json format):\n",
    "    \n",
    "            explanation: <Simple explanation like to a child>\n",
    "            synonyms: <comman seperated synoyms>\n",
    "\n",
    "        German Word: {word}\n",
    "    \"\"\")\n",
    "\n",
    "    response = llm.prompt(messages=[system_prompt(), user_prompt(word=german_word)])\n",
    "    \n",
    "    return response"
   ]
  },
  {
   "cell_type": "code",
   "execution_count": null,
   "metadata": {},
   "outputs": [],
   "source": [
    "def sentence_generator(german_word, number_of_sentences, llm=gpt):\n",
    "    system_prompt = SystemPrompter(\"\"\"\n",
    "        You are a fluent German speaker that is great at following instructions. \n",
    "    \"\"\")\n",
    "\n",
    "    user_prompt = UserPrompter(\"\"\"\n",
    "        Given a German word, generate {number_of_sentences} sentences with the word.\n",
    "        First provide a contextual scenario in english, then generate the sentence in german.\n",
    "        The sentences must vary in meaning, conjugated tense, tone (passive or active tone), and quantity (singular or plural) of the word.\n",
    "        Avoid using the praeteritum instead use partizip II.\n",
    "\n",
    "        Output Format (comma seperated json format):\n",
    "        \n",
    "            context: <A series a sentences in English describing a scenerio for which the generated sentence is application>\n",
    "            german sentence: <A sentence that was generated based on the supplied german word>\n",
    "            english translation: <Direct translation of the generated sentence to English>\n",
    "\n",
    "        German Word: {word}\n",
    "    \"\"\")\n",
    "\n",
    "    response = llm.prompt(messages=[system_prompt(), user_prompt(word=german_word)])\n",
    "    \n",
    "    return response"
   ]
  },
  {
   "cell_type": "code",
   "execution_count": null,
   "metadata": {},
   "outputs": [],
   "source": [
    "def json_parser(response):\n",
    "    \"\"\" parse json response \"\"\"\n",
    "    pattern = r'\\{[^{}]*\\}'\n",
    "    matches = re.findall(pattern, response)\n",
    "    data = [json.loads(match) for match in matches]\n",
    "\n",
    "    return data"
   ]
  },
  {
   "cell_type": "code",
   "execution_count": null,
   "metadata": {},
   "outputs": [],
   "source": [
    "response = word_explanator(german_word)[0]['assistant']\n",
    "explanation = json_parser(response)\n",
    "explanation"
   ]
  },
  {
   "cell_type": "code",
   "execution_count": null,
   "metadata": {},
   "outputs": [],
   "source": [
    "response = sentence_generator(german_word, number_of_sentences)[0]['assistant']\n",
    "sentences = json_parser(response)\n",
    "sentences"
   ]
  },
  {
   "cell_type": "code",
   "execution_count": null,
   "metadata": {},
   "outputs": [],
   "source": [
    "number_of_sentences"
   ]
  }
 ],
 "metadata": {
  "kernelspec": {
   "display_name": "lt-backend-env",
   "language": "python",
   "name": "python3"
  },
  "language_info": {
   "codemirror_mode": {
    "name": "ipython",
    "version": 3
   },
   "file_extension": ".py",
   "mimetype": "text/x-python",
   "name": "python",
   "nbconvert_exporter": "python",
   "pygments_lexer": "ipython3",
   "version": "3.11.3"
  },
  "orig_nbformat": 4
 },
 "nbformat": 4,
 "nbformat_minor": 2
}
