{
 "cells": [
  {
   "cell_type": "code",
   "execution_count": 1,
   "metadata": {},
   "outputs": [],
   "source": [
    "import re\n",
    "import json\n",
    "from queryverse.llm import OpenAI\n",
    "from queryverse.prompter import (\n",
    "                        SystemPrompter, \n",
    "            \n",
    "                        UserPrompter)\n",
    "\n",
    "gpt = OpenAI(temperature=1)"
   ]
  },
  {
   "cell_type": "code",
   "execution_count": 2,
   "metadata": {},
   "outputs": [],
   "source": [
    "german_word = \"schwer\"\n",
    "number_of_sentences = 3"
   ]
  },
  {
   "cell_type": "code",
   "execution_count": 3,
   "metadata": {},
   "outputs": [],
   "source": [
    "def word_explanator(german_word:str, llm:OpenAI=gpt) -> List[str]: \n",
    "    system_prompt = SystemPrompter(\"\"\"\n",
    "        You are a fluent German speaker that is great at following instructions. \n",
    "    \"\"\")\n",
    "\n",
    "    user_prompt = UserPrompter(\"\"\"\n",
    "        Given a German word, supply the following\n",
    "        1. A explanation of the word in english in very simple terms like to a child.\n",
    "        2. Synonyms of the word if the exist\n",
    "\n",
    "        Output Format (comma seperated json format):\n",
    "    \n",
    "            explanation: <Simple explanation like to a child>\n",
    "            synonyms: <comman seperated synoyms>\n",
    "\n",
    "        German Word: {word}\n",
    "    \"\"\")\n",
    "\n",
    "    response = llm.prompt(messages=[system_prompt(), user_prompt(word=german_word)])\n",
    "    \n",
    "    return response"
   ]
  },
  {
   "cell_type": "code",
   "execution_count": 4,
   "metadata": {},
   "outputs": [],
   "source": [
    "def sentence_generator(german_word, number_of_sentences, llm=gpt):\n",
    "    system_prompt = SystemPrompter(\"\"\"\n",
    "        You are a fluent German speaker that is great at following instructions. \n",
    "    \"\"\")\n",
    "\n",
    "    user_prompt = UserPrompter(\"\"\"\n",
    "        Given a German word, generate {num_sent} sentences with the word.\n",
    "        First provide a contextual scenario in english, then generate the sentence in german.\n",
    "        The sentences must vary in meaning, conjugated tense, tone (passive or active tone), and quantity (singular or plural) of the word.\n",
    "        Avoid using the praeteritum instead use partizip II.\n",
    "\n",
    "        Output Format (comma seperated json format):\n",
    "        \n",
    "            context: <A series a sentences in English describing a scenerio for which the generated sentence is application>\n",
    "            german sentence: <A sentence that was generated based on the supplied german word>\n",
    "            english translation: <Direct translation of the generated sentence to English>\n",
    "\n",
    "        German Word: {word}\n",
    "    \"\"\")\n",
    "\n",
    "    response = llm.prompt(messages=[system_prompt(), user_prompt(word=german_word,\n",
    "                                                                 num_sent=number_of_sentences)])\n",
    "    \n",
    "    return response"
   ]
  },
  {
   "cell_type": "code",
   "execution_count": 5,
   "metadata": {},
   "outputs": [],
   "source": [
    "def json_parser(response):\n",
    "    \"\"\" parse json response \"\"\"\n",
    "    pattern = r'\\{[^{}]*\\}'\n",
    "    matches = re.findall(pattern, response)\n",
    "    data = [json.loads(match) for match in matches]\n",
    "\n",
    "    return data"
   ]
  },
  {
   "cell_type": "code",
   "execution_count": 6,
   "metadata": {},
   "outputs": [
    {
     "data": {
      "text/plain": [
       "[{'explanation': \"The word 'schwer' means 'heavy' in English. Like when you try to lift something and it feels really difficult because it is 'schwer'.\",\n",
       "  'synonyms': 'gewichtig, massiv, mächtig'}]"
      ]
     },
     "execution_count": 6,
     "metadata": {},
     "output_type": "execute_result"
    }
   ],
   "source": [
    "response = word_explanator(german_word)[0]['assistant']\n",
    "explanation = json_parser(response)\n",
    "explanation"
   ]
  },
  {
   "cell_type": "code",
   "execution_count": 7,
   "metadata": {},
   "outputs": [
    {
     "data": {
      "text/plain": [
       "[{'context': 'You are at a gym and the weights are too heavy.',\n",
       "  'german sentence': 'Die Gewichte sind schwer.',\n",
       "  'english translation': 'The weights are heavy.'},\n",
       " {'context': 'You are helping a friend move furniture and the couch is heavy.',\n",
       "  'german sentence': 'Das Sofa ist schwer.',\n",
       "  'english translation': 'The couch is heavy.'},\n",
       " {'context': \"You are shopping for a new laptop and one in particular catches your eye because it's lightweight.\",\n",
       "  'german sentence': 'Der Laptop ist nicht schwer.',\n",
       "  'english translation': 'The laptop is not heavy.'}]"
      ]
     },
     "execution_count": 7,
     "metadata": {},
     "output_type": "execute_result"
    }
   ],
   "source": [
    "response = sentence_generator(german_word, number_of_sentences)[0]['assistant']\n",
    "sentences = json_parser(response)\n",
    "sentences"
   ]
  },
  {
   "cell_type": "code",
   "execution_count": 8,
   "metadata": {},
   "outputs": [
    {
     "data": {
      "text/plain": [
       "3"
      ]
     },
     "execution_count": 8,
     "metadata": {},
     "output_type": "execute_result"
    }
   ],
   "source": [
    "number_of_sentences"
   ]
  }
 ],
 "metadata": {
  "kernelspec": {
   "display_name": "lt-backend-env",
   "language": "python",
   "name": "python3"
  },
  "language_info": {
   "codemirror_mode": {
    "name": "ipython",
    "version": 3
   },
   "file_extension": ".py",
   "mimetype": "text/x-python",
   "name": "python",
   "nbconvert_exporter": "python",
   "pygments_lexer": "ipython3",
   "version": "3.11.3"
  },
  "orig_nbformat": 4
 },
 "nbformat": 4,
 "nbformat_minor": 2
}
