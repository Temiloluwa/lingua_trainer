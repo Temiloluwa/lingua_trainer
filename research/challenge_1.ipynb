{
 "cells": [
  {
   "cell_type": "code",
   "execution_count": 1,
   "metadata": {},
   "outputs": [],
   "source": [
    "from aiflow.llm import OpenAI\n",
    "from aiflow.prompter import (\n",
    "                        SystemPrompter, \n",
    "                        UserPrompter, \n",
    "                        AssistantPrompter)\n",
    "\n",
    "gpt = OpenAI()"
   ]
  },
  {
   "cell_type": "code",
   "execution_count": 4,
   "metadata": {},
   "outputs": [
    {
     "name": "stdout",
     "output_type": "stream",
     "text": [
      "{'role': 'system', 'content': 'Hello, John. You are 30 years old. You are a helpful assistant.'}\n",
      "{'role': 'user', 'content': 'Knock knock.'}\n",
      "{'role': 'assistant', 'content': \"Who's there?\"}\n",
      "{'role': 'user', 'content': 'How many days are in a leap year?'}\n"
     ]
    }
   ],
   "source": [
    "\n",
    "system_prompter = SystemPrompter(name=\"John\", age=30)\n",
    "user_prompter = UserPrompter()\n",
    "assistant_prompter = AssistantPrompter()\n",
    "\n",
    "system_message = system_prompter(\"Hello, {name}. You are {age} years old. You are a helpful assistant.\")\n",
    "user_message = user_prompter(\"Knock knock.\")\n",
    "assistant_message = assistant_prompter(\"Who's there?\")\n",
    "user_message2 = user_prompter(\"How many days are in a leap year?\")\n",
    "\n",
    "messages = [\n",
    "    system_message,\n",
    "    user_message,\n",
    "    assistant_message,\n",
    "    user_message2\n",
    "]\n",
    "\n",
    "# Print previous messages\n",
    "for message in messages:\n",
    "    print(message)"
   ]
  },
  {
   "cell_type": "code",
   "execution_count": 5,
   "metadata": {},
   "outputs": [
    {
     "data": {
      "text/plain": [
       "[{'assistant': 'In a leap year, there are 366 days.'}]"
      ]
     },
     "execution_count": 5,
     "metadata": {},
     "output_type": "execute_result"
    }
   ],
   "source": [
    "gpt.prompt(messages=messages)"
   ]
  },
  {
   "cell_type": "code",
   "execution_count": null,
   "metadata": {},
   "outputs": [],
   "source": []
  }
 ],
 "metadata": {
  "kernelspec": {
   "display_name": "lt-backend-env",
   "language": "python",
   "name": "python3"
  },
  "language_info": {
   "codemirror_mode": {
    "name": "ipython",
    "version": 3
   },
   "file_extension": ".py",
   "mimetype": "text/x-python",
   "name": "python",
   "nbconvert_exporter": "python",
   "pygments_lexer": "ipython3",
   "version": "3.11.3"
  },
  "orig_nbformat": 4
 },
 "nbformat": 4,
 "nbformat_minor": 2
}
