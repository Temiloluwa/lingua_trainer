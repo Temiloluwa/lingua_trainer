{
 "cells": [
  {
   "cell_type": "code",
   "execution_count": 1,
   "metadata": {},
   "outputs": [],
   "source": [
    "import os\n",
    "import json\n",
    "import re\n",
    "import string\n",
    "from pprint import pprint\n",
    "from pathlib import Path\n",
    "from collections import defaultdict\n",
    "\n",
    "from dotenv import load_dotenv\n",
    "from langchain.llms import OpenAI\n",
    "\n",
    "from langchain.prompts import (\n",
    "    ChatPromptTemplate,\n",
    "    MessagesPlaceholder,\n",
    "    SystemMessagePromptTemplate,\n",
    "    HumanMessagePromptTemplate\n",
    ")\n",
    "from langchain.chains import ConversationChain\n",
    "from langchain.chat_models import ChatOpenAI\n",
    "from langchain.memory import ConversationBufferMemory\n",
    "\n"
   ]
  },
  {
   "cell_type": "code",
   "execution_count": 2,
   "metadata": {},
   "outputs": [
    {
     "data": {
      "text/plain": [
       "True"
      ]
     },
     "execution_count": 2,
     "metadata": {},
     "output_type": "execute_result"
    }
   ],
   "source": [
    "load_dotenv()"
   ]
  },
  {
   "cell_type": "code",
   "execution_count": 3,
   "metadata": {},
   "outputs": [],
   "source": [
    "DATAROOT = \"data\""
   ]
  },
  {
   "cell_type": "code",
   "execution_count": 7,
   "metadata": {},
   "outputs": [],
   "source": [
    "def read_json_file(json_file_path):\n",
    "    try:\n",
    "        with open(json_file_path, 'r') as json_file:\n",
    "            data = json.load(json_file)\n",
    "        return data\n",
    "    except FileNotFoundError:\n",
    "        print(f\"File not found: {json_file_path}\")\n",
    "        return None\n",
    "    except json.JSONDecodeError as e:\n",
    "        print(f\"Error decoding JSON: {str(e)}\")\n",
    "        return None\n",
    "\n",
    "def load_data(root_path: str):\n",
    "    \"\"\"Load all word data \"\"\"\n",
    "    data = []\n",
    "    for fn in os.listdir(root_path):\n",
    "        data.extend(read_json_file(root_path + \"/\" + fn))\n",
    "    \n",
    "    return data"
   ]
  },
  {
   "cell_type": "code",
   "execution_count": 8,
   "metadata": {},
   "outputs": [],
   "source": [
    "word_schatz = load_data(DATAROOT)"
   ]
  },
  {
   "cell_type": "code",
   "execution_count": 12,
   "metadata": {},
   "outputs": [
    {
     "name": "stdout",
     "output_type": "stream",
     "text": [
      "{'überstanden': {'english': ['endured'],\n",
      "                 'sentences': ['Das Winter überstanden.',\n",
      "                               'Sie haben den Sturm überstanden.',\n",
      "                               'Wir werden diese Krise überstehen.',\n",
      "                               'Wenn ich den Marathon beendet habe, habe ich '\n",
      "                               'den Lauf überstanden.',\n",
      "                               'Es wird erwartet, dass sie die Prüfung '\n",
      "                               'bestehen werden.'],\n",
      "                 'synonyms': {'durchkommen': {'english': ['come through'],\n",
      "                                              'sentences': ['Er kam durch die '\n",
      "                                                            'schwierige '\n",
      "                                                            'Prüfung.',\n",
      "                                                            'Die Mannschaft '\n",
      "                                                            'kam erfolgreich '\n",
      "                                                            'durch das '\n",
      "                                                            'Turnier.',\n",
      "                                                            'Wir müssen '\n",
      "                                                            'gemeinsam diese '\n",
      "                                                            'Herausforderung '\n",
      "                                                            'durchstehen.'],\n",
      "                                              'synonyms': ['bestehen',\n",
      "                                                           'meistern']},\n",
      "                              'durchziehen': {'english': ['pull through'],\n",
      "                                              'sentences': ['Sie zog die '\n",
      "                                                            'Operation '\n",
      "                                                            'erfolgreich '\n",
      "                                                            'durch.',\n",
      "                                                            'Wenn wir '\n",
      "                                                            'zusammenhalten, '\n",
      "                                                            'können wir diese '\n",
      "                                                            'schwierige Zeit '\n",
      "                                                            'durchziehen.'],\n",
      "                                              'synonyms': ['bewältigen',\n",
      "                                                           'überstehen']},\n",
      "                              'überwinden': {'english': ['overcome'],\n",
      "                                             'sentences': ['Sie hat ihre Angst '\n",
      "                                                           'überwunden.',\n",
      "                                                           'Gemeinsam können '\n",
      "                                                           'wir Hindernisse '\n",
      "                                                           'überwinden.',\n",
      "                                                           'Der Sieg über den '\n",
      "                                                           'Gegner wurde als '\n",
      "                                                           'große Leistung '\n",
      "                                                           'angesehen.'],\n",
      "                                             'synonyms': ['besiegen',\n",
      "                                                          'bezwingen']}}}}\n"
     ]
    }
   ],
   "source": [
    "pprint(word_schatz[0])"
   ]
  },
  {
   "cell_type": "code",
   "execution_count": 29,
   "metadata": {},
   "outputs": [],
   "source": [
    "from langchain.prompts import (\n",
    "    ChatPromptTemplate,\n",
    "    MessagesPlaceholder,\n",
    "    SystemMessagePromptTemplate,\n",
    "    HumanMessagePromptTemplate\n",
    ")\n",
    "from langchain.chains import LLMChain\n",
    "from langchain.chat_models import ChatOpenAI\n",
    "from langchain.memory import ConversationBufferMemory\n",
    "\n",
    "\n",
    "\n",
    "prompt = ChatPromptTemplate.from_messages([\n",
    "    SystemMessagePromptTemplate.from_template(\"\"\"\n",
    "        You are a friendly AI and a German tutor that creates challenges to be solved inorder to help the human improve their German language skills.\n",
    "        Generate a challenge given a german word, and a mode. A mode will be one of the following:\n",
    "        1. Präsens\n",
    "        2. Perfekt\n",
    "        3. Plusquamperfekt\n",
    "        4. Futur1\n",
    "        5. Futur2\n",
    "        6. Subjunctiv I\n",
    "        7. Subjunctive II\n",
    "        8. PartizipII\n",
    "        The challenge will be generated in english. Give the student your feed back on their performance.\n",
    "        Create the challenge once you see the token <Start>\n",
    "        \"\"\"                               \n",
    "    ),\n",
    "    MessagesPlaceholder(variable_name=\"history\"),\n",
    "    HumanMessagePromptTemplate.from_template(\"\"\"\n",
    "        Examples:\n",
    "            Mode: Präsens\n",
    "            Word: Beweisen    \n",
    "            Challenge: How would you say in German: \"I prove my innocence\"\n",
    "            Student Response: Ich beweise meine Unschuld\n",
    "            Tutor Feedback: Great work!\n",
    "\n",
    "            Mode: Subjunctive II\n",
    "            Word: Beweisen    \n",
    "            Challenge: How would a German say: \"If he had proven his theory, he would have become famous.\"\n",
    "            Student Response:  Wenn er seine Theorie bewiesen hätte, wäre er berühmt geworden\n",
    "            Tutor Feedback: Spot on!\n",
    "\n",
    "            Mode: Perfekt\n",
    "            Word: Beweisen    \n",
    "            Challenge: Your German professor has just lectured you on origins on the universe. He gave you reasons why he feels evolution is not true. \n",
    "            Tell your german friend: \"He has proven his theory\"\n",
    "            Student Response:  Sie hat seine Theorie bewiesen\n",
    "            Tutor Feedback: You were close, but Sie is used for a lady, the correct Pronoun is Er.\n",
    "\n",
    "        <Start>:\n",
    "            Mode: FuturI\n",
    "            Word:  {the_word}    \n",
    "    \"\"\")\n",
    "])\n",
    "\n",
    "llm = ChatOpenAI(temperature=0)\n",
    "memory = ConversationBufferMemory(return_messages=True)\n",
    "conversation = LLMChain(memory=memory, prompt=prompt, llm=llm)"
   ]
  },
  {
   "cell_type": "code",
   "execution_count": 32,
   "metadata": {},
   "outputs": [
    {
     "name": "stdout",
     "output_type": "stream",
     "text": [
      "Challenge: Imagine you are talking to your friend about a difficult situation you are currently facing. Tell your friend: \"We will have overcome this challenge.\"\n",
      "\n",
      "Student Response: Wir werden diese Herausforderung überstanden haben.\n",
      "\n",
      "Tutor Feedback: Excellent job! Your sentence is grammatically correct and conveys the intended meaning. Well done!\n"
     ]
    }
   ],
   "source": [
    "response = conversation(inputs={\"the_word\":\"überstanden\"})\n",
    "print(response[\"text\"])"
   ]
  },
  {
   "cell_type": "code",
   "execution_count": 39,
   "metadata": {},
   "outputs": [
    {
     "name": "stdout",
     "output_type": "stream",
     "text": [
      "Human: another input 1 : 2+2\n",
      "AI: 4\n",
      "Human: another input 2 : 2+3\n",
      "AI: 5\n"
     ]
    }
   ],
   "source": [
    "from langchain.prompts import (\n",
    "    FewShotChatMessagePromptTemplate,\n",
    "    ChatPromptTemplate,\n",
    ")\n",
    "\n",
    "examples = [\n",
    "    {\"another_input\": \"another input 1\", \"input\": \"2+2\", \"output\": \"4\"},\n",
    "    {\"another_input\": \"another input 2\", \"input\": \"2+3\", \"output\": \"5\"},\n",
    "]\n",
    "\n",
    "# This is a prompt template used to format each individual example.\n",
    "example_prompt = ChatPromptTemplate.from_messages(\n",
    "    [   \n",
    "        (\"human\", \"{another_input} : {input}\"),\n",
    "        (\"ai\", \"{output}\"),\n",
    "    ]\n",
    ")\n",
    "few_shot_prompt_template = FewShotChatMessagePromptTemplate(\n",
    "    example_prompt=example_prompt,\n",
    "    examples=examples,\n",
    ")\n",
    "\n",
    "print(few_shot_prompt_template.format())"
   ]
  },
  {
   "cell_type": "code",
   "execution_count": 44,
   "metadata": {},
   "outputs": [],
   "source": [
    "from langchain.prompts.pipeline import PipelinePromptTemplate\n",
    "from langchain.prompts.prompt import PromptTemplate\n",
    "from langchain.prompts import (FewShotChatMessagePromptTemplate,\n",
    "                                 MessagesPlaceholder,\n",
    "                                ChatPromptTemplate)\n",
    "\n",
    "# system prompt\n",
    "\n",
    "system_prompt = \"\"\"\n",
    "    You are a friendly AI and a German tutor that creates challenges to be solved inorder to help the human improve their German language skills.\n",
    "    Given a challenge, and your student's response, you give helpful feedback to guide the student to the right solution.\n",
    "    You give all your feedback in English translating any English word in the challenge to German.\n",
    "\"\"\"\n",
    "\n",
    "system_prompt_template = ChatPromptTemplate.from_messages([(\"system\", system_prompt)])\n",
    "\n",
    "# few shot promt\n",
    "\n",
    "examples = [\n",
    "    {\"challenge\": \"A German driver is about to approach your bus stop, tell him in German: I am alighting\", \n",
    "     \"student_response\": \"Ich steige aus\", \n",
    "     \"tutor_feedback\": \"Bravo! Seems you're really gonna be fluent soon\"},\n",
    "\n",
    "    {\"challenge\": \"How would your German friend tell you, We are free now!\", \n",
    "     \"student_response\": \"Sie sind frei!\", \n",
    "     \"tutor_feedback\": \"Good try but the article used stands for You. Try to use the article for We\"},\n",
    "\n",
    "    {\"challenge\": \"How would your German friend tell you, We are free now!\", \n",
    "     \"student_response\": \"Wir sind frei!\", \n",
    "     \"tutor_feedback\": \"Great work! But there is just a little bit left.\"},\n",
    "\n",
    "    {\"challenge\": \"How would your German friend tell you, We are free now!\", \n",
    "     \"student_response\": \"Wir sind jetzt frei!\", \n",
    "     \"tutor_feedback\": \"Excellent! Keep on practicing your German skills\"},\n",
    "]\n",
    "\n",
    "# This is a prompt template used to format each individual example.\n",
    "example_prompt_template = ChatPromptTemplate.from_messages(\n",
    "    [   \n",
    "        (\"human\", \"\"\"Challenge: {challenge}\n",
    "                    Student's Response: {student_response}\n",
    "                 \"\"\"),\n",
    "        (\"ai\", \"Tutor's Feedback: {tutor_feedback}\"),\n",
    "    ]\n",
    ")\n",
    "few_shot_prompt_template = FewShotChatMessagePromptTemplate(\n",
    "    example_prompt=example_prompt_template,\n",
    "    examples=examples,\n",
    ")\n",
    "\n",
    "\n",
    "challenge_prompt_template = ChatPromptTemplate.from_messages(\n",
    "    [   \n",
    "        (\"human\", \"{input}\")\n",
    "    ]\n",
    ")"
   ]
  },
  {
   "cell_type": "code",
   "execution_count": 45,
   "metadata": {},
   "outputs": [
    {
     "data": {
      "text/plain": [
       "'\\n    [SystemMessage(content=\"\\\\n    You are a friendly AI and a German tutor that creates challenges to be solved inorder to help the human improve their German language skills.\\\\n    Given a challenge, and your student\\'s response, you give helpful feedback to guide the student to the right solution.\\\\n    You give all your feedback in English translating any English word in the challenge to German.\\\\n\", additional_kwargs={})]\\n    this is history\\n    [HumanMessage(content=\"Challenge: A German driver is about to approach your bus stop, tell him in German: I am alighting\\\\n                    Student\\'s Response: Ich steige aus\\\\n                 \", additional_kwargs={}, example=False), AIMessage(content=\"Tutor\\'s Feedback: Bravo! Seems you\\'re really gonna be fluent soon\", additional_kwargs={}, example=False), HumanMessage(content=\"Challenge: How would your German friend tell you, We are free now!\\\\n                    Student\\'s Response: Sie sind frei!\\\\n                 \", additional_kwargs={}, example=False), AIMessage(content=\"Tutor\\'s Feedback: Good try but the article used stands for You. Try to use the article for We\", additional_kwargs={}, example=False), HumanMessage(content=\"Challenge: How would your German friend tell you, We are free now!\\\\n                    Student\\'s Response: Wir sind frei!\\\\n                 \", additional_kwargs={}, example=False), AIMessage(content=\"Tutor\\'s Feedback: Great work! But there is just a little bit left.\", additional_kwargs={}, example=False), HumanMessage(content=\"Challenge: How would your German friend tell you, We are free now!\\\\n                    Student\\'s Response: Wir sind jetzt frei!\\\\n                 \", additional_kwargs={}, example=False), AIMessage(content=\"Tutor\\'s Feedback: Excellent! Keep on practicing your German skills\", additional_kwargs={}, example=False)]\\n    this is input\\n'"
      ]
     },
     "execution_count": 45,
     "metadata": {},
     "output_type": "execute_result"
    }
   ],
   "source": [
    "full_prompt = \"\"\"\n",
    "    {system_prompt}\n",
    "    {history}\n",
    "    {few_shot_prompt}\n",
    "    {input}\n",
    "\"\"\"\n",
    "full_prompt_template = PromptTemplate.from_template(full_prompt)\n",
    "\n",
    "input_prompts = [\n",
    "    (\"system_prompt\", system_prompt_template),\n",
    "    (\"few_shot_prompt\", few_shot_prompt_template),\n",
    "]\n",
    "\n",
    "pipeline_prompt = PipelinePromptTemplate(final_prompt=full_prompt_template, pipeline_prompts=input_prompts)\n",
    "pipeline_prompt.format(input=\"this is input\", history=\"this is history\")"
   ]
  },
  {
   "cell_type": "code",
   "execution_count": 49,
   "metadata": {},
   "outputs": [
    {
     "ename": "ValidationError",
     "evalue": "1 validation error for ConversationChain\n__root__\n  Got unexpected prompt input variables. The prompt expects [], but got ['history'] as inputs from memory, and input as the normal input key. (type=value_error)",
     "output_type": "error",
     "traceback": [
      "\u001b[0;31m---------------------------------------------------------------------------\u001b[0m",
      "\u001b[0;31mValidationError\u001b[0m                           Traceback (most recent call last)",
      "\u001b[1;32m/Users/t.adeoti/codes-and-scripts/projects/lingua_trainer/b2_words/word_challenges.ipynb Cell 12\u001b[0m line \u001b[0;36m6\n\u001b[1;32m      <a href='vscode-notebook-cell:/Users/t.adeoti/codes-and-scripts/projects/lingua_trainer/b2_words/word_challenges.ipynb#X16sZmlsZQ%3D%3D?line=0'>1</a>\u001b[0m llm \u001b[39m=\u001b[39m ChatOpenAI(temperature\u001b[39m=\u001b[39m\u001b[39m0\u001b[39m)\n\u001b[1;32m      <a href='vscode-notebook-cell:/Users/t.adeoti/codes-and-scripts/projects/lingua_trainer/b2_words/word_challenges.ipynb#X16sZmlsZQ%3D%3D?line=1'>2</a>\u001b[0m memory \u001b[39m=\u001b[39m memory\u001b[39m=\u001b[39mConversationBufferMemory(\n\u001b[1;32m      <a href='vscode-notebook-cell:/Users/t.adeoti/codes-and-scripts/projects/lingua_trainer/b2_words/word_challenges.ipynb#X16sZmlsZQ%3D%3D?line=2'>3</a>\u001b[0m             memory_key\u001b[39m=\u001b[39m\u001b[39m\"\u001b[39m\u001b[39mhistory\u001b[39m\u001b[39m\"\u001b[39m,\n\u001b[1;32m      <a href='vscode-notebook-cell:/Users/t.adeoti/codes-and-scripts/projects/lingua_trainer/b2_words/word_challenges.ipynb#X16sZmlsZQ%3D%3D?line=3'>4</a>\u001b[0m             input_key\u001b[39m=\u001b[39m\u001b[39m\"\u001b[39m\u001b[39mhuman_input\u001b[39m\u001b[39m\"\u001b[39m\n\u001b[1;32m      <a href='vscode-notebook-cell:/Users/t.adeoti/codes-and-scripts/projects/lingua_trainer/b2_words/word_challenges.ipynb#X16sZmlsZQ%3D%3D?line=4'>5</a>\u001b[0m         )\n\u001b[0;32m----> <a href='vscode-notebook-cell:/Users/t.adeoti/codes-and-scripts/projects/lingua_trainer/b2_words/word_challenges.ipynb#X16sZmlsZQ%3D%3D?line=5'>6</a>\u001b[0m conversation_chain \u001b[39m=\u001b[39m ConversationChain(\n\u001b[1;32m      <a href='vscode-notebook-cell:/Users/t.adeoti/codes-and-scripts/projects/lingua_trainer/b2_words/word_challenges.ipynb#X16sZmlsZQ%3D%3D?line=6'>7</a>\u001b[0m     llm\u001b[39m=\u001b[39;49mllm, \n\u001b[1;32m      <a href='vscode-notebook-cell:/Users/t.adeoti/codes-and-scripts/projects/lingua_trainer/b2_words/word_challenges.ipynb#X16sZmlsZQ%3D%3D?line=7'>8</a>\u001b[0m     verbose\u001b[39m=\u001b[39;49m\u001b[39mTrue\u001b[39;49;00m,\n\u001b[1;32m      <a href='vscode-notebook-cell:/Users/t.adeoti/codes-and-scripts/projects/lingua_trainer/b2_words/word_challenges.ipynb#X16sZmlsZQ%3D%3D?line=8'>9</a>\u001b[0m     prompt\u001b[39m=\u001b[39;49mpipeline_prompt,\n\u001b[1;32m     <a href='vscode-notebook-cell:/Users/t.adeoti/codes-and-scripts/projects/lingua_trainer/b2_words/word_challenges.ipynb#X16sZmlsZQ%3D%3D?line=9'>10</a>\u001b[0m )\n\u001b[1;32m     <a href='vscode-notebook-cell:/Users/t.adeoti/codes-and-scripts/projects/lingua_trainer/b2_words/word_challenges.ipynb#X16sZmlsZQ%3D%3D?line=10'>11</a>\u001b[0m conversation_chain\u001b[39m.\u001b[39mpredict(\u001b[39minput\u001b[39m\u001b[39m=\u001b[39m\u001b[39m\"\"\"\u001b[39m\u001b[39mChallenge: How would you tell your German girl: I love you\u001b[39m\n\u001b[1;32m     <a href='vscode-notebook-cell:/Users/t.adeoti/codes-and-scripts/projects/lingua_trainer/b2_words/word_challenges.ipynb#X16sZmlsZQ%3D%3D?line=11'>12</a>\u001b[0m \u001b[39m                        Student\u001b[39m\u001b[39m'\u001b[39m\u001b[39ms Response: Ich liebe dir\u001b[39m\n\u001b[1;32m     <a href='vscode-notebook-cell:/Users/t.adeoti/codes-and-scripts/projects/lingua_trainer/b2_words/word_challenges.ipynb#X16sZmlsZQ%3D%3D?line=12'>13</a>\u001b[0m \u001b[39m                    \u001b[39m\u001b[39m\"\"\"\u001b[39m)\n",
      "File \u001b[0;32m~/codes-and-scripts/projects/lingua_trainer/lt-backend-env/lib/python3.11/site-packages/langchain/load/serializable.py:74\u001b[0m, in \u001b[0;36mSerializable.__init__\u001b[0;34m(self, **kwargs)\u001b[0m\n\u001b[1;32m     73\u001b[0m \u001b[39mdef\u001b[39;00m \u001b[39m__init__\u001b[39m(\u001b[39mself\u001b[39m, \u001b[39m*\u001b[39m\u001b[39m*\u001b[39mkwargs: Any) \u001b[39m-\u001b[39m\u001b[39m>\u001b[39m \u001b[39mNone\u001b[39;00m:\n\u001b[0;32m---> 74\u001b[0m     \u001b[39msuper\u001b[39;49m()\u001b[39m.\u001b[39;49m\u001b[39m__init__\u001b[39;49m(\u001b[39m*\u001b[39;49m\u001b[39m*\u001b[39;49mkwargs)\n\u001b[1;32m     75\u001b[0m     \u001b[39mself\u001b[39m\u001b[39m.\u001b[39m_lc_kwargs \u001b[39m=\u001b[39m kwargs\n",
      "File \u001b[0;32m~/codes-and-scripts/projects/lingua_trainer/lt-backend-env/lib/python3.11/site-packages/pydantic/main.py:341\u001b[0m, in \u001b[0;36mpydantic.main.BaseModel.__init__\u001b[0;34m()\u001b[0m\n",
      "\u001b[0;31mValidationError\u001b[0m: 1 validation error for ConversationChain\n__root__\n  Got unexpected prompt input variables. The prompt expects [], but got ['history'] as inputs from memory, and input as the normal input key. (type=value_error)"
     ]
    }
   ],
   "source": [
    "llm = ChatOpenAI(temperature=0)\n",
    "memory = memory=ConversationBufferMemory(\n",
    "            memory_key=\"history\",\n",
    "            input_key=\"human_input\"\n",
    "        )\n",
    "conversation_chain = ConversationChain(\n",
    "    llm=llm, \n",
    "    verbose=True,\n",
    "    prompt=pipeline_prompt,\n",
    ")\n",
    "conversation_chain.predict(input=\"\"\"Challenge: How would you tell your German girl: I love you\n",
    "                        Student's Response: Ich liebe dir\n",
    "                    \"\"\")"
   ]
  },
  {
   "cell_type": "code",
   "execution_count": null,
   "metadata": {},
   "outputs": [],
   "source": []
  }
 ],
 "metadata": {
  "kernelspec": {
   "display_name": "lt-backend-env",
   "language": "python",
   "name": "python3"
  },
  "language_info": {
   "codemirror_mode": {
    "name": "ipython",
    "version": 3
   },
   "file_extension": ".py",
   "mimetype": "text/x-python",
   "name": "python",
   "nbconvert_exporter": "python",
   "pygments_lexer": "ipython3",
   "version": "3.11.3"
  },
  "orig_nbformat": 4
 },
 "nbformat": 4,
 "nbformat_minor": 2
}
