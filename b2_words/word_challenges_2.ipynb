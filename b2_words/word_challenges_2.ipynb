{
 "cells": [
  {
   "cell_type": "code",
   "execution_count": 13,
   "metadata": {},
   "outputs": [
    {
     "data": {
      "text/plain": [
       "True"
      ]
     },
     "execution_count": 13,
     "metadata": {},
     "output_type": "execute_result"
    }
   ],
   "source": [
    "from langchain.chat_models import ChatOpenAI\n",
    "from langchain.chains import ConversationChain\n",
    "from langchain.memory import ConversationBufferMemory\n",
    "from langchain.prompts import (\n",
    "    ChatPromptTemplate,\n",
    "    MessagesPlaceholder,\n",
    "    SystemMessagePromptTemplate,\n",
    "    HumanMessagePromptTemplate,\n",
    ")\n",
    "\n",
    "from langchain.prompts.chat import AIMessagePromptTemplate\n",
    "from pprint import pprint\n",
    "from dotenv import load_dotenv\n",
    "\n",
    "load_dotenv()"
   ]
  },
  {
   "cell_type": "code",
   "execution_count": 14,
   "metadata": {},
   "outputs": [],
   "source": [
    "# few shots\n",
    "\n",
    "examples = [\n",
    "    {\"challenge\": \"A German driver is about to approach your bus stop, tell him in German: I am alighting\", \n",
    "     \"student_response\": \"Ich steige aus\", \n",
    "     \"tutor_feedback\": \"Bravo! Seems you're really gonna be fluent soon\"},\n",
    "\n",
    "    {\"challenge\": \"How would your German friend tell you, We are free now!\", \n",
    "     \"student_response\": \"Sie sind frei!\", \n",
    "     \"tutor_feedback\": \"Good try but the article used stands for You. Try to use the article for We\"},\n",
    "\n",
    "    {\"challenge\": \"How would your German friend tell you, We are free now!\", \n",
    "     \"student_response\": \"Wir sind frei!\", \n",
    "     \"tutor_feedback\": \"Great work! But there is just a little bit left.\"},\n",
    "\n",
    "    {\"challenge\": \"How would your German friend tell you, We are free now!\", \n",
    "     \"student_response\": \"Wir sind jetzt frei!\", \n",
    "     \"tutor_feedback\": \"Excellent! Keep on practicing your German skills\"},\n",
    "]\n",
    "\n",
    "def generate_few_shot_messages(examples: list):\n",
    "    all_msgs = []\n",
    "    for example in examples:\n",
    "        all_msgs.append(HumanMessagePromptTemplate.from_template(f\"\"\"\n",
    "        Challenge: {example[\"challenge\"]}\n",
    "        Student's Response: {example[\"student_response\"]}\n",
    "        \"\"\"))\n",
    "        all_msgs.append(AIMessagePromptTemplate.from_template(f\"Tutor's Feedback: {example['tutor_feedback']}\"))\n",
    "\n",
    "    return all_msgs\n",
    "\n",
    "few_shot_msgs = generate_few_shot_messages(examples)"
   ]
  },
  {
   "cell_type": "code",
   "execution_count": 15,
   "metadata": {},
   "outputs": [],
   "source": [
    "prompt = ChatPromptTemplate.from_messages([\n",
    "    SystemMessagePromptTemplate.from_template(\"\"\"\n",
    "        You are a friendly AI and a German tutor that creates challenges to be solved inorder to help the human improve their German language skills.\n",
    "        Given a challenge, and your student's response, you give helpful feedback to guide the student to the right solution.\n",
    "        You give all your feedback in English.\n",
    "        Avoid giving any translations of the answer from German to English.\n",
    "        If the student fails, try to guide them not translating the answer.\n",
    "        \"\"\"                               \n",
    "    )] + few_shot_msgs + [\n",
    "    MessagesPlaceholder(variable_name=\"history\"),\n",
    "    HumanMessagePromptTemplate.from_template(\"{input}\")\n",
    "    ])"
   ]
  },
  {
   "cell_type": "code",
   "execution_count": 16,
   "metadata": {},
   "outputs": [],
   "source": [
    "llm = ChatOpenAI(temperature=0)\n",
    "\n",
    "conversation = ConversationChain(\n",
    "    llm=llm,\n",
    "    prompt=prompt,\n",
    "    memory=ConversationBufferMemory(return_messages=True),\n",
    "    verbose=True)"
   ]
  },
  {
   "cell_type": "code",
   "execution_count": 17,
   "metadata": {},
   "outputs": [
    {
     "name": "stdout",
     "output_type": "stream",
     "text": [
      "\n",
      "\n",
      "\u001b[1m> Entering new ConversationChain chain...\u001b[0m\n",
      "Prompt after formatting:\n",
      "\u001b[32;1m\u001b[1;3mSystem: \n",
      "        You are a friendly AI and a German tutor that creates challenges to be solved inorder to help the human improve their German language skills.\n",
      "        Given a challenge, and your student's response, you give helpful feedback to guide the student to the right solution.\n",
      "        You give all your feedback in English.\n",
      "        Avoid giving any translations of the answer from German to English.\n",
      "        If the student fails, try to guide them not translating the answer.\n",
      "        \n",
      "Human: \n",
      "        Challenge: A German driver is about to approach your bus stop, tell him in German: I am alighting\n",
      "        Student's Response: Ich steige aus\n",
      "        \n",
      "AI: Tutor's Feedback: Bravo! Seems you're really gonna be fluent soon\n",
      "Human: \n",
      "        Challenge: How would your German friend tell you, We are free now!\n",
      "        Student's Response: Sie sind frei!\n",
      "        \n",
      "AI: Tutor's Feedback: Good try but the article used stands for You. Try to use the article for We\n",
      "Human: \n",
      "        Challenge: How would your German friend tell you, We are free now!\n",
      "        Student's Response: Wir sind frei!\n",
      "        \n",
      "AI: Tutor's Feedback: Great work! But there is just a little bit left.\n",
      "Human: \n",
      "        Challenge: How would your German friend tell you, We are free now!\n",
      "        Student's Response: Wir sind jetzt frei!\n",
      "        \n",
      "AI: Tutor's Feedback: Excellent! Keep on practicing your German skills\n",
      "Human: Challenge: How would you tell your German girl: I have never eaten anything that sweet before\n",
      "                  Student's Response: Haette Ich gewusst dass es du waere, haette ich dich besser gekusst.\n",
      "                \u001b[0m\n",
      "\n",
      "\u001b[1m> Finished chain.\u001b[0m\n",
      "Tutor's Feedback: Good effort, but your response is not quite correct. Let's break it down and make some corrections. First, to say \"I have never eaten,\" we use the verb \"essen\" in the past tense. Second, to say \"anything that sweet before,\" we need to use the word \"so\" in German. Finally, the word \"küsst\" means \"kissed,\" but we need a different verb here. Keep trying!\n"
     ]
    }
   ],
   "source": [
    "input_prompt = \"\"\"Challenge: How would you tell your German girl: I have never eaten anything that sweet before\n",
    "                  Student's Response: Haette Ich gewusst dass es du waere, haette ich dich besser gekusst.\n",
    "                \"\"\"\n",
    "response = conversation.predict(input=input_prompt)\n",
    "print(response)"
   ]
  },
  {
   "cell_type": "code",
   "execution_count": null,
   "metadata": {},
   "outputs": [],
   "source": []
  }
 ],
 "metadata": {
  "kernelspec": {
   "display_name": "lt-backend-env",
   "language": "python",
   "name": "python3"
  },
  "language_info": {
   "codemirror_mode": {
    "name": "ipython",
    "version": 3
   },
   "file_extension": ".py",
   "mimetype": "text/x-python",
   "name": "python",
   "nbconvert_exporter": "python",
   "pygments_lexer": "ipython3",
   "version": "3.11.3"
  },
  "orig_nbformat": 4
 },
 "nbformat": 4,
 "nbformat_minor": 2
}
