{
 "cells": [
  {
   "cell_type": "code",
   "execution_count": null,
   "id": "48197c88-9dab-4c34-a727-02edd7e40e5d",
   "metadata": {},
   "outputs": [],
   "source": [
    "import os\n",
    "import json\n",
    "import re\n",
    "import string\n",
    "from pprint import pprint\n",
    "from pathlib import Path\n",
    "from collections import defaultdict\n",
    "\n",
    "from dotenv import load_dotenv\n",
    "from langchain.llms import OpenAI\n",
    "\n",
    "from langchain.prompts import (\n",
    "    ChatPromptTemplate,\n",
    "    MessagesPlaceholder,\n",
    "    SystemMessagePromptTemplate,\n",
    "    HumanMessagePromptTemplate\n",
    ")\n",
    "from langchain.chains import ConversationChain\n",
    "from langchain.chat_models import ChatOpenAI\n",
    "from langchain.memory import ConversationBufferMemory\n",
    "\n",
    "\n",
    "load_dotenv()"
   ]
  },
  {
   "cell_type": "markdown",
   "id": "c37b5679-8dac-46ac-9f10-561dffef6181",
   "metadata": {},
   "source": [
    "## Conversation"
   ]
  },
  {
   "cell_type": "markdown",
   "id": "112dddd0-f5ca-4ac7-b88d-a28830726efb",
   "metadata": {},
   "source": [
    "## Sample Prompt\n",
    "\n",
    "The following is a conversation between an Agent and a Customer. The agent will attempt to diagnose the problem and suggest a solution, whilst refraining from asking any questions related to PII. Instead of asking for PII, such as username or password, refer the user to the help article www.samplewebsite.com/help/faq\n",
    "\n",
    "Customer: I can’t log in to my account.\n",
    "Agent:"
   ]
  },
  {
   "cell_type": "code",
   "execution_count": null,
   "id": "58f80b91-4e53-45a2-9c0f-26929082ecae",
   "metadata": {},
   "outputs": [],
   "source": [
    "prompt = ChatPromptTemplate.from_messages([\n",
    "    SystemMessagePromptTemplate.from_template(\"\"\"\n",
    "        You are a friendly German tutor that helps your student improve their German language skills. \n",
    "        You teach your student how to have real world conversations in German.\n",
    "        \"\"\"                               \n",
    "    ),\n",
    "    MessagesPlaceholder(variable_name=\"history\"),\n",
    "    HumanMessagePromptTemplate.from_template(\"{input}\")\n",
    "])\n",
    "\n",
    "\n",
    "llm = ChatOpenAI(temperature=0.4)\n",
    "memory = ConversationBufferMemory(return_messages=True)\n",
    "conversation = ConversationChain(memory=memory, prompt=prompt, llm=llm)"
   ]
  },
  {
   "cell_type": "code",
   "execution_count": null,
   "id": "f9026546-a57c-4786-b727-5e046ea9f6be",
   "metadata": {},
   "outputs": [],
   "source": [
    "initial_input = \"\"\"\n",
    "Generate a role play conversation between two actors, First actor and Second actor, for a given scenario. \n",
    "The First actor makes only German statements and the Second actor makes German statements with their English translation in parenthesis.\n",
    "Limit the conversation to 50 words. Remember to avoid making English statements for the First actor \n",
    "Desired Format:\n",
    "    Scenario: <role play situation>\n",
    "    Actor: <German statement>\n",
    "    Actor2: <German statement> (<English Translation>) {agent-confirm-correct-answer}\n",
    "\n",
    "    Example:\n",
    "    Scenario:  Boy expresses his love to his girlfriend.\n",
    "    Boy:  Ich liebe dich so sehr. Du bist alles für mich.\n",
    "    Girl: Ich liebe dich auch. Du machst mich so glücklich. (I love you too. You make me so happy).{agent-confirm-correct-answer}\n",
    "    Boy:  Deine Liebe ist das Beste, was mir je passiert ist.\n",
    "    Girl: Ich kann mir ein Leben ohne dich nicht vorstellen. (I can't imagine a life without you).{agent-confirm-correct-answer}\n",
    "    Boy:  Du bist mein Ein und Alles.\n",
    "    Girl: Du hast mein Herz für immer.(You have my heart forever).{agent-confirm-correct-answer}\n",
    "    \n",
    "List my instructions and confirmation your understanding of the task. Think step by step.\n",
    "Scenario: A boss expresses his disapproval with an employee for coming late to work\n",
    "\"\"\"\n",
    "response = conversation.predict(input=initial_input)\n",
    "print(response)"
   ]
  },
  {
   "cell_type": "code",
   "execution_count": null,
   "id": "768f9e15-39ba-443d-9306-7a8c33696f70",
   "metadata": {},
   "outputs": [],
   "source": [
    "output = conversation.predict(input=\"start generating the conversation\")"
   ]
  },
  {
   "cell_type": "code",
   "execution_count": null,
   "id": "571047f1-8753-4918-9a0b-dbdb318266a4",
   "metadata": {},
   "outputs": [],
   "source": [
    "print(output)"
   ]
  },
  {
   "cell_type": "markdown",
   "id": "a48844d1-537e-4ba9-b20a-a1c9128d883a",
   "metadata": {},
   "source": [
    "\n",
    "System Message: \"You are a German tutor that tries to help you student provide the correct German translation for an English statement.\n",
    "For each of your student's responses provide constructive feedbacks and Hints to guide them to the right answer. Applaud them when they finally get the right translation\n",
    "\"\n",
    "\n",
    "Provide the right German translation for the English statement: I can't imagine a life without you\n",
    "target answer: Ich kann mir ein Leben ohne dich nicht vorstellen.\n",
    "Remember not to provide the right answer until the student gets the answer. Provide helpful hints for the student.\n",
    "List my instructions and confirm your understanding of them."
   ]
  },
  {
   "cell_type": "code",
   "execution_count": null,
   "id": "c820fb87-5b4e-4d80-97f5-2d967d5997fc",
   "metadata": {},
   "outputs": [],
   "source": []
  },
  {
   "cell_type": "code",
   "execution_count": null,
   "id": "6a24809b-68d9-4f92-8829-0e5d6190c711",
   "metadata": {},
   "outputs": [],
   "source": []
  },
  {
   "cell_type": "code",
   "execution_count": null,
   "id": "b8ceb91f-ac70-492f-9770-f19de56d22ab",
   "metadata": {},
   "outputs": [],
   "source": []
  },
  {
   "cell_type": "code",
   "execution_count": null,
   "id": "86bb2c05-a659-40cf-aa55-e78691dfbc0f",
   "metadata": {},
   "outputs": [],
   "source": []
  },
  {
   "cell_type": "code",
   "execution_count": null,
   "id": "dcf892e7-66f7-49d1-a849-311caac40e0f",
   "metadata": {},
   "outputs": [],
   "source": []
  },
  {
   "cell_type": "code",
   "execution_count": null,
   "id": "5bb5ddb6-f89a-4b88-b8ff-b8b1ded167d4",
   "metadata": {},
   "outputs": [],
   "source": []
  },
  {
   "cell_type": "code",
   "execution_count": null,
   "id": "c2878b65-eab4-404b-8017-b5ffa2e12694",
   "metadata": {},
   "outputs": [],
   "source": []
  },
  {
   "cell_type": "code",
   "execution_count": null,
   "id": "8228122e-af18-412b-9654-1f62032fac45",
   "metadata": {},
   "outputs": [],
   "source": []
  },
  {
   "cell_type": "code",
   "execution_count": null,
   "id": "ad0c3e12-3729-4593-8acc-1eb6f37f9ab7",
   "metadata": {},
   "outputs": [],
   "source": []
  },
  {
   "cell_type": "code",
   "execution_count": null,
   "id": "1f635dc6-3370-4613-b26e-856d45728bcc",
   "metadata": {},
   "outputs": [],
   "source": []
  },
  {
   "cell_type": "markdown",
   "id": "bd883493-3786-4d9b-a463-8c9682e1319f",
   "metadata": {},
   "source": [
    "## Complete the sentence"
   ]
  },
  {
   "cell_type": "code",
   "execution_count": null,
   "id": "54619082-474f-49bf-940d-37d65c4b9592",
   "metadata": {},
   "outputs": [],
   "source": [
    "from langchain.prompts import (\n",
    "    ChatPromptTemplate,\n",
    "    MessagesPlaceholder,\n",
    "    SystemMessagePromptTemplate,\n",
    "    HumanMessagePromptTemplate\n",
    ")\n",
    "from langchain.chains import ConversationChain\n",
    "from langchain.chat_models import ChatOpenAI\n",
    "from langchain.memory import ConversationBufferMemory\n",
    "\n",
    "\n",
    "\n",
    "prompt = ChatPromptTemplate.from_messages([\n",
    "    SystemMessagePromptTemplate.from_template(\"\"\"\n",
    "        You are a friendly AI and a German tutor that creates challenges to be solved inorder to help the human improve their German language skills.\n",
    "        You request answers to the challenges that you create and can provide helpful information on why the answer provided by the human is correct or wrong.\n",
    "        At first, you provide helpful feedback on how to solve the challenge without revealing the answer.\n",
    "        After some wrong attempts by the Human, you provide the answer and an explanation on the solution.\n",
    "        Follow the pattern in the Examples provided to you to ensure you understand how to operate.\n",
    "        Treat words in angle brackets <> as instructions or guides.\n",
    "        \"\"\"                               \n",
    "    ),\n",
    "    MessagesPlaceholder(variable_name=\"history\"),\n",
    "    HumanMessagePromptTemplate.from_template(\"{input}\")\n",
    "])\n",
    "\n",
    "initial_input = \"\"\" \n",
    "        Generate a challenge for a given German word.\n",
    "        Make sure you are creative in generating sentences.\n",
    "        Applaud the Human for responding with the right answer and provide a creative hint for a wrong answer. \n",
    "        Give an Hint to the right answer. Do not provide the English translation of the German word in your hint.\n",
    "        \n",
    "        Desired format:\n",
    "        Word: <A German Word>\n",
    "        Challenge: <The English translation of the generated sentence using the German Word. The sentence must not have ____. The sentenc>\n",
    "        Fill in the Blanks: <The generated sentence with the German word hidden with _____>\n",
    "        <wait for a response from Human>\n",
    "        Human: <The German Word> or <A wrong German Word>\n",
    "        AI: <Applauds the Human> or <Guides the Human to the Answer>\n",
    "        \n",
    "        Examples:\n",
    "        Word: gehen\n",
    "        Challenge: Tell this to me in German: I want to go to the toilet? \n",
    "        Fill in the Blanks: Ich will auf die Toillette _____. \n",
    "        <wait for a response from Human>\n",
    "        Human: gehen\n",
    "        AI: Great work!\n",
    "        Word: wesentlich\n",
    "        Challenge: Tell this to me in German: Time flies much faster with this practical work. \n",
    "        Fill in the Blanks: Die Zeit vergeht über dieser praktischen Arbeit nun _____ schneller.\n",
    "        <wait for a response from Human>\n",
    "        Human: wesentlich\n",
    "        AI: That was fantastic\n",
    "        Word: Frieden\n",
    "        Challenge: Tell this to me in German: But after Kenzler's advance, this peace is in danger. \n",
    "        Fill in the Blanks: Doch nach dem Vorstoß von Kenzler ist dieser _____ in Gefahr.\n",
    "        Human: Zufrieden\n",
    "        <wait for a response from Human>\n",
    "        AI: Not quite. Zufrieden means satisfied. You are on the way. Look for a word for Peace in German\n",
    "        Word: Eichhörnchen\n",
    "        \"\"\"\n",
    "\n",
    "llm = ChatOpenAI(temperature=0)\n",
    "memory = ConversationBufferMemory(return_messages=True)\n",
    "conversation = ConversationChain(memory=memory, prompt=prompt, llm=llm)"
   ]
  },
  {
   "cell_type": "code",
   "execution_count": null,
   "id": "35c4129a-e3c4-4f40-8858-f8e3cf008fb2",
   "metadata": {},
   "outputs": [],
   "source": [
    "response = conversation.predict(input=initial_input)"
   ]
  },
  {
   "cell_type": "code",
   "execution_count": null,
   "id": "14ff7b87-9cd8-4d6b-85ea-4195a3974499",
   "metadata": {},
   "outputs": [],
   "source": [
    "print(response)"
   ]
  },
  {
   "cell_type": "code",
   "execution_count": null,
   "id": "e1f4d637-b2f3-4ecb-8d43-ae431895ab7c",
   "metadata": {},
   "outputs": [],
   "source": [
    "print(conversation.predict(input=\"Human: katz\"))"
   ]
  },
  {
   "cell_type": "code",
   "execution_count": null,
   "id": "d6dd05ce-d0ca-4d0d-be3c-42e9eba25386",
   "metadata": {},
   "outputs": [],
   "source": []
  }
 ],
 "metadata": {
  "kernelspec": {
   "display_name": "naija_highlights",
   "language": "python",
   "name": "naija_highlights"
  },
  "language_info": {
   "codemirror_mode": {
    "name": "ipython",
    "version": 3
   },
   "file_extension": ".py",
   "mimetype": "text/x-python",
   "name": "python",
   "nbconvert_exporter": "python",
   "pygments_lexer": "ipython3",
   "version": "3.9.16"
  }
 },
 "nbformat": 4,
 "nbformat_minor": 5
}
