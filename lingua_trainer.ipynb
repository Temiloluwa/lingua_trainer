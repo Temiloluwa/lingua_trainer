{
 "cells": [
  {
   "cell_type": "code",
   "execution_count": 1,
   "id": "48197c88-9dab-4c34-a727-02edd7e40e5d",
   "metadata": {},
   "outputs": [
    {
     "data": {
      "text/plain": [
       "True"
      ]
     },
     "execution_count": 1,
     "metadata": {},
     "output_type": "execute_result"
    }
   ],
   "source": [
    "import os\n",
    "import json\n",
    "import string\n",
    "from pprint import pprint\n",
    "from pathlib import Path\n",
    "from collections import defaultdict\n",
    "\n",
    "from dotenv import load_dotenv\n",
    "from langchain.llms import OpenAI\n",
    "\n",
    "from langchain.prompts import (\n",
    "    ChatPromptTemplate,\n",
    "    MessagesPlaceholder,\n",
    "    SystemMessagePromptTemplate,\n",
    "    HumanMessagePromptTemplate\n",
    ")\n",
    "from langchain.chains import ConversationChain\n",
    "from langchain.chat_models import ChatOpenAI\n",
    "from langchain.memory import ConversationBufferMemory\n",
    "\n",
    "\n",
    "load_dotenv()"
   ]
  },
  {
   "cell_type": "markdown",
   "id": "c37b5679-8dac-46ac-9f10-561dffef6181",
   "metadata": {},
   "source": [
    "## Scenarios\n",
    "\n",
    "1. Job Interview\n",
    "2. Apology and Forgiveness\n",
    "3. Parent-Child Interaction\n",
    "\n",
    "### Data Structure\n",
    "\n",
    "``` json\n",
    "role_play_data = {\n",
    "    \"theme\": \"job-interview\",\n",
    "    \"actors\": [{\"name\": \"Mr. John\", \"role\": \"interviewer\"}, \n",
    "               {\"name\": \"Jane\", \"role\": \"interviewee\"}],\n",
    "    \"conversation\": [{ \"call\": \"Hallo Jane, Wie geht's dir heute\", \n",
    "                       \"response\": \"I am fine, thank you.\", \n",
    "                        \"target\": \"Es geht mir gut, danke.\" }]\n",
    "}\n",
    "\n",
    "task_data = {\n",
    "    \"system_promt\": \"\",\n",
    "    \"input_prompt\": \"\"\n",
    "}\n",
    "\n",
    "```"
   ]
  },
  {
   "cell_type": "markdown",
   "id": "6d6e6429-dcb1-41d0-9439-c6dea7610b8e",
   "metadata": {},
   "source": [
    "## Utils"
   ]
  },
  {
   "cell_type": "code",
   "execution_count": 2,
   "id": "da3fcecf-54a6-4ab5-b45b-eca09ed5c968",
   "metadata": {},
   "outputs": [],
   "source": [
    "def load_json_file(file_path):\n",
    "    with open(file_path, 'r') as file:\n",
    "        data = json.load(file)\n",
    "    return data\n",
    "\n",
    "\n",
    "def get_roleplay_data(roleplay_path: str) -> list:\n",
    "    \"\"\"Get Roleplay Paths \"\"\"\n",
    "    roleplay_paths = [i for i in os.listdir(\"roleplay_data\") if i.endswith(\".json\")]\n",
    "    roleplay_data = [load_json_file(os.path.join(roleplay_path, i)) for i in roleplay_paths]\n",
    "    return roleplay_data"
   ]
  },
  {
   "cell_type": "code",
   "execution_count": 3,
   "id": "d6dd05ce-d0ca-4d0d-be3c-42e9eba25386",
   "metadata": {},
   "outputs": [],
   "source": [
    "roleplay_data = get_roleplay_data(\"roleplay_data\")"
   ]
  },
  {
   "cell_type": "markdown",
   "id": "d3a17806-19c5-4f02-a6ab-f5cd46b5e883",
   "metadata": {},
   "source": [
    "## The Tutor"
   ]
  },
  {
   "cell_type": "code",
   "execution_count": 4,
   "id": "a041d14c-3593-41e8-8368-20cc25ff0534",
   "metadata": {},
   "outputs": [
    {
     "data": {
      "text/plain": [
       "True"
      ]
     },
     "execution_count": 4,
     "metadata": {},
     "output_type": "execute_result"
    }
   ],
   "source": [
    "from dotenv import load_dotenv\n",
    "from langchain.llms import OpenAI\n",
    "\n",
    "from langchain.prompts import (\n",
    "    ChatPromptTemplate,\n",
    "    MessagesPlaceholder,\n",
    "    SystemMessagePromptTemplate,\n",
    "    HumanMessagePromptTemplate,\n",
    "    AIMessagePromptTemplate\n",
    ")\n",
    "from langchain.chains import ConversationChain\n",
    "from langchain.chat_models import ChatOpenAI\n",
    "from langchain.memory import ConversationBufferMemory\n",
    "from langchain.cache import SQLiteCache\n",
    "import langchain\n",
    "import functools\n",
    "\n",
    "\n",
    "#langchain.llm_cache = SQLiteCache(database_path=\".langchain.db\")\n",
    "load_dotenv()"
   ]
  },
  {
   "cell_type": "code",
   "execution_count": 5,
   "id": "514287b1-aac1-43b5-ac27-6687d692f183",
   "metadata": {},
   "outputs": [],
   "source": [
    "class Trainer:\n",
    "    actor1 = None\n",
    "    actor2 = None\n",
    "    actor1_role = None\n",
    "    actor2_role = None\n",
    "    theme = None\n",
    "    \n",
    "    def __init__(self, \n",
    "                 role_play_data: dict, \n",
    "                 task_data: dict):\n",
    "        self.role_play_data = role_play_data\n",
    "        self.task_data = task_data\n",
    "        self._init_trainer(role_play_data)\n",
    "\n",
    "\n",
    "    def _init_trainer(role_play_data: dict):\n",
    "        \"\"\" Initialize the trainer properties \"\"\"\n",
    "        self.actor1, self.actor1_role = roleplay_data[\"actors\"][0].values()\n",
    "        self.actor2, self.actor2_role = roleplay_data[\"actors\"][1].values()\n",
    "        self.theme = roleplay_data[\"theme\"]\n",
    "\n",
    "    def prompt_model()\n",
    "        "
   ]
  },
  {
   "cell_type": "code",
   "execution_count": 7,
   "id": "fc9f169e-fc75-4398-804d-572b1cd1281f",
   "metadata": {},
   "outputs": [],
   "source": [
    "def initialiaze_tutor(temperature: float=0.5, verbose: bool=False):\n",
    "    prompt = ChatPromptTemplate.from_messages([\n",
    "    SystemMessagePromptTemplate.from_template(f\"\"\"\n",
    "        You are a German tutor that tries to help you student provide the correct German translation for an English statement.\n",
    "        For each of your student's responses provide constructive feedbacks and Hints to guide them to the right answer. \n",
    "        Applaud them when they finally get the right translation\n",
    "        \"\"\"                               \n",
    "    ),\n",
    "    AIMessagePromptTemplate.from_template(f\"Could you provide the German translation for this English sentence: {response_target}\"),\n",
    "    MessagesPlaceholder(variable_name=\"history\"),\n",
    "    HumanMessagePromptTemplate.from_template(\"{input}\")\n",
    "    ])\n",
    "\n",
    "\n",
    "    llm = ChatOpenAI(temperature=temperature)\n",
    "    memory = ConversationBufferMemory(return_messages=True)\n",
    "    conversation = ConversationChain(memory=memory, prompt=prompt, llm=llm, verbose=verbose)\n",
    "    return memory, conversation\n",
    "\n",
    "def execute_convo(input, conversation):\n",
    "    output = conversation.run(input=input)\n",
    "    print(\"Tutor: \", output)\n",
    "    return conversation\n",
    "\n",
    "\n",
    "def tutor_me(response:str, response_target:str, temperature:float=0.5):\n",
    "    memory, conversation = initialiaze_tutor(1)\n",
    "    initial_input = f\"\"\" \n",
    "    Challenge:\n",
    "    Provide the right German translation for the English statement: {response_target}\n",
    "    target answer: {response}. Remember not to provide the right answer until the student gets the answer.\n",
    "    Provide helpful hints for the student. Avoid providing any translations in your hints or alluding to German versions of English words.\n",
    "    Give the student a maximum of two attempts before revealing the final answer.\n",
    "    List my instructions and confirm your understanding of them\n",
    "    \"\"\"\n",
    "    conversation = execute_convo(initial_input, conversation)\n",
    "    for i in range(2):\n",
    "        conversation = execute_convo(input(), conversation)"
   ]
  },
  {
   "cell_type": "markdown",
   "id": "883a3763-6cd7-4657-8227-1f21db94eb3a",
   "metadata": {},
   "source": [
    "### Start Conversation"
   ]
  },
  {
   "cell_type": "code",
   "execution_count": 8,
   "id": "c4b6074b-dfcb-4c4f-98d1-1fe6fd1be5bd",
   "metadata": {},
   "outputs": [
    {
     "name": "stdout",
     "output_type": "stream",
     "text": [
      "************** Lingua Learner ***************\n",
      "This is a conversation about job-interview between Mr. John the interviewer and Jane the interviewee.\n",
      "\n",
      "---\n",
      "Mr. John: Guten Morgen! Herzlich willkommen zum Vorstellungsgespräch. Können Sie mir etwas über Ihre frühere Arbeitserfahrung erzählen?\n",
      "Tutor:  Your instructions are as follows:\n",
      "1. Provide hints and constructive feedback to help the student find the right translation.\n",
      "2. Do not provide the correct answer until the student finds it.\n",
      "3. Give the student a maximum of two attempts.\n",
      "4. Confirm understanding.\n",
      "Understood. I will follow these instructions.\n"
     ]
    },
    {
     "name": "stdin",
     "output_type": "stream",
     "text": [
      " s\n"
     ]
    },
    {
     "name": "stdout",
     "output_type": "stream",
     "text": [
      "Tutor:  Please provide an English statement to be translated into German.\n"
     ]
    },
    {
     "ename": "KeyboardInterrupt",
     "evalue": "Interrupted by user",
     "output_type": "error",
     "traceback": [
      "\u001b[0;31m---------------------------------------------------------------------------\u001b[0m",
      "\u001b[0;31mKeyboardInterrupt\u001b[0m                         Traceback (most recent call last)",
      "Cell \u001b[0;32mIn[8], line 19\u001b[0m\n\u001b[1;32m     15\u001b[0m         tutor_me(response, response_target)\n\u001b[1;32m     16\u001b[0m         \u001b[38;5;28minput\u001b[39m(\u001b[38;5;124mf\u001b[39m\u001b[38;5;124m\"\u001b[39m\u001b[38;5;132;01m{\u001b[39;00mactor2\u001b[38;5;132;01m}\u001b[39;00m\u001b[38;5;124m: \u001b[39m\u001b[38;5;124m\"\u001b[39m)\n\u001b[0;32m---> 19\u001b[0m \u001b[43mstart_conversation\u001b[49m\u001b[43m(\u001b[49m\u001b[38;5;241;43m0\u001b[39;49m\u001b[43m,\u001b[49m\u001b[43m \u001b[49m\u001b[43mroleplay_data\u001b[49m\u001b[43m)\u001b[49m\n",
      "Cell \u001b[0;32mIn[8], line 15\u001b[0m, in \u001b[0;36mstart_conversation\u001b[0;34m(data_index, roleplay_data)\u001b[0m\n\u001b[1;32m     11\u001b[0m call, call_target, response, response_target \u001b[38;5;241m=\u001b[39m convo\u001b[38;5;241m.\u001b[39mvalues()\n\u001b[1;32m     12\u001b[0m \u001b[38;5;28mprint\u001b[39m(\u001b[38;5;124m\"\u001b[39m\u001b[38;5;130;01m\\n\u001b[39;00m\u001b[38;5;124m---\u001b[39m\u001b[38;5;130;01m\\n\u001b[39;00m\u001b[38;5;124m\"\u001b[39m\n\u001b[1;32m     13\u001b[0m      \u001b[38;5;124mf\u001b[39m\u001b[38;5;124m\"\u001b[39m\u001b[38;5;132;01m{\u001b[39;00mactor1\u001b[38;5;132;01m}\u001b[39;00m\u001b[38;5;124m: \u001b[39m\u001b[38;5;132;01m{\u001b[39;00mcall\u001b[38;5;132;01m}\u001b[39;00m\u001b[38;5;124m\"\u001b[39m)\n\u001b[0;32m---> 15\u001b[0m \u001b[43mtutor_me\u001b[49m\u001b[43m(\u001b[49m\u001b[43mresponse\u001b[49m\u001b[43m,\u001b[49m\u001b[43m \u001b[49m\u001b[43mresponse_target\u001b[49m\u001b[43m)\u001b[49m\n\u001b[1;32m     16\u001b[0m \u001b[38;5;28minput\u001b[39m(\u001b[38;5;124mf\u001b[39m\u001b[38;5;124m\"\u001b[39m\u001b[38;5;132;01m{\u001b[39;00mactor2\u001b[38;5;132;01m}\u001b[39;00m\u001b[38;5;124m: \u001b[39m\u001b[38;5;124m\"\u001b[39m)\n",
      "Cell \u001b[0;32mIn[7], line 37\u001b[0m, in \u001b[0;36mtutor_me\u001b[0;34m(response, response_target, temperature)\u001b[0m\n\u001b[1;32m     35\u001b[0m conversation \u001b[38;5;241m=\u001b[39m execute_convo(initial_input, conversation)\n\u001b[1;32m     36\u001b[0m \u001b[38;5;28;01mfor\u001b[39;00m i \u001b[38;5;129;01min\u001b[39;00m \u001b[38;5;28mrange\u001b[39m(\u001b[38;5;241m2\u001b[39m):\n\u001b[0;32m---> 37\u001b[0m     conversation \u001b[38;5;241m=\u001b[39m execute_convo(\u001b[38;5;28;43minput\u001b[39;49m\u001b[43m(\u001b[49m\u001b[43m)\u001b[49m, conversation)\n",
      "File \u001b[0;32m~/miniconda3/envs/naija_highlights/lib/python3.9/site-packages/ipykernel/kernelbase.py:1175\u001b[0m, in \u001b[0;36mKernel.raw_input\u001b[0;34m(self, prompt)\u001b[0m\n\u001b[1;32m   1171\u001b[0m \u001b[38;5;28;01mif\u001b[39;00m \u001b[38;5;129;01mnot\u001b[39;00m \u001b[38;5;28mself\u001b[39m\u001b[38;5;241m.\u001b[39m_allow_stdin:\n\u001b[1;32m   1172\u001b[0m     \u001b[38;5;28;01mraise\u001b[39;00m StdinNotImplementedError(\n\u001b[1;32m   1173\u001b[0m         \u001b[38;5;124m\"\u001b[39m\u001b[38;5;124mraw_input was called, but this frontend does not support input requests.\u001b[39m\u001b[38;5;124m\"\u001b[39m\n\u001b[1;32m   1174\u001b[0m     )\n\u001b[0;32m-> 1175\u001b[0m \u001b[38;5;28;01mreturn\u001b[39;00m \u001b[38;5;28;43mself\u001b[39;49m\u001b[38;5;241;43m.\u001b[39;49m\u001b[43m_input_request\u001b[49m\u001b[43m(\u001b[49m\n\u001b[1;32m   1176\u001b[0m \u001b[43m    \u001b[49m\u001b[38;5;28;43mstr\u001b[39;49m\u001b[43m(\u001b[49m\u001b[43mprompt\u001b[49m\u001b[43m)\u001b[49m\u001b[43m,\u001b[49m\n\u001b[1;32m   1177\u001b[0m \u001b[43m    \u001b[49m\u001b[38;5;28;43mself\u001b[39;49m\u001b[38;5;241;43m.\u001b[39;49m\u001b[43m_parent_ident\u001b[49m\u001b[43m[\u001b[49m\u001b[38;5;124;43m\"\u001b[39;49m\u001b[38;5;124;43mshell\u001b[39;49m\u001b[38;5;124;43m\"\u001b[39;49m\u001b[43m]\u001b[49m\u001b[43m,\u001b[49m\n\u001b[1;32m   1178\u001b[0m \u001b[43m    \u001b[49m\u001b[38;5;28;43mself\u001b[39;49m\u001b[38;5;241;43m.\u001b[39;49m\u001b[43mget_parent\u001b[49m\u001b[43m(\u001b[49m\u001b[38;5;124;43m\"\u001b[39;49m\u001b[38;5;124;43mshell\u001b[39;49m\u001b[38;5;124;43m\"\u001b[39;49m\u001b[43m)\u001b[49m\u001b[43m,\u001b[49m\n\u001b[1;32m   1179\u001b[0m \u001b[43m    \u001b[49m\u001b[43mpassword\u001b[49m\u001b[38;5;241;43m=\u001b[39;49m\u001b[38;5;28;43;01mFalse\u001b[39;49;00m\u001b[43m,\u001b[49m\n\u001b[1;32m   1180\u001b[0m \u001b[43m\u001b[49m\u001b[43m)\u001b[49m\n",
      "File \u001b[0;32m~/miniconda3/envs/naija_highlights/lib/python3.9/site-packages/ipykernel/kernelbase.py:1217\u001b[0m, in \u001b[0;36mKernel._input_request\u001b[0;34m(self, prompt, ident, parent, password)\u001b[0m\n\u001b[1;32m   1214\u001b[0m             \u001b[38;5;28;01mbreak\u001b[39;00m\n\u001b[1;32m   1215\u001b[0m \u001b[38;5;28;01mexcept\u001b[39;00m \u001b[38;5;167;01mKeyboardInterrupt\u001b[39;00m:\n\u001b[1;32m   1216\u001b[0m     \u001b[38;5;66;03m# re-raise KeyboardInterrupt, to truncate traceback\u001b[39;00m\n\u001b[0;32m-> 1217\u001b[0m     \u001b[38;5;28;01mraise\u001b[39;00m \u001b[38;5;167;01mKeyboardInterrupt\u001b[39;00m(\u001b[38;5;124m\"\u001b[39m\u001b[38;5;124mInterrupted by user\u001b[39m\u001b[38;5;124m\"\u001b[39m) \u001b[38;5;28;01mfrom\u001b[39;00m \u001b[38;5;28;01mNone\u001b[39;00m\n\u001b[1;32m   1218\u001b[0m \u001b[38;5;28;01mexcept\u001b[39;00m \u001b[38;5;167;01mException\u001b[39;00m:\n\u001b[1;32m   1219\u001b[0m     \u001b[38;5;28mself\u001b[39m\u001b[38;5;241m.\u001b[39mlog\u001b[38;5;241m.\u001b[39mwarning(\u001b[38;5;124m\"\u001b[39m\u001b[38;5;124mInvalid Message:\u001b[39m\u001b[38;5;124m\"\u001b[39m, exc_info\u001b[38;5;241m=\u001b[39m\u001b[38;5;28;01mTrue\u001b[39;00m)\n",
      "\u001b[0;31mKeyboardInterrupt\u001b[0m: Interrupted by user"
     ]
    }
   ],
   "source": [
    "def start_conversation(data_index: int, roleplay_data: dict):\n",
    "    roleplay_data = roleplay_data[data_index]\n",
    "    actor1, actor_1_role = roleplay_data[\"actors\"][0].values()\n",
    "    actor2, actor_2_role = roleplay_data[\"actors\"][1].values()\n",
    "    theme = roleplay_data[\"theme\"]\n",
    "\n",
    "    print(\"************** Lingua Learner ***************\")\n",
    "    print(f\"This is a conversation about {theme} between {actor1} the {actor_1_role} and {actor2} the {actor_2_role}.\")\n",
    "    \n",
    "    for convo in roleplay_data[\"conversation\"]:\n",
    "        call, call_target, response, response_target = convo.values()\n",
    "        print(\"\\n---\\n\"\n",
    "             f\"{actor1}: {call}\")\n",
    "        \n",
    "        tutor_me(response, response_target)\n",
    "        input(f\"{actor2}: \")\n",
    "        \n",
    "\n",
    "start_conversation(0, roleplay_data)   "
   ]
  },
  {
   "cell_type": "code",
   "execution_count": null,
   "id": "cb663bf8-b17c-44d3-8284-b792f5be9de1",
   "metadata": {},
   "outputs": [],
   "source": [
    "def tutor_me(response:str, response_target:str, temperature:float=0.5):\n",
    "    memory, conversation = initialiaze_tutor(1)\n",
    "    initial_input = f\"\"\" \n",
    "    Challenge:\n",
    "    Provide the right German translation for the English statement: {response_target}\n",
    "    target answer: {response}. Remember not to provide the right answer until the student gets the answer.\n",
    "    Provide helpful hints for the student. Avoid providing any translations in your hints or alluding to German versions of English words.\n",
    "    Give the student a maximum of two attempts before revealing the final answer.\n",
    "    List my instructions and confirm your understanding of them\n",
    "    \"\"\"\n",
    "    conversation = execute_convo(initial_input, conversation)\n",
    "    for i in range(2):\n",
    "        conversation = execute_convo(input(), conversation)"
   ]
  },
  {
   "cell_type": "code",
   "execution_count": null,
   "id": "eeb57c6c-2b13-4625-9db8-a6a2da39b7ef",
   "metadata": {},
   "outputs": [],
   "source": []
  },
  {
   "cell_type": "code",
   "execution_count": null,
   "id": "f1399802-a4b8-4e26-838b-b1adc76558fd",
   "metadata": {},
   "outputs": [],
   "source": [
    "execute_convo(\"Guten Morgen! Danke. Ich habe drei jahre ProjektManagement Erpharung und Team Leitung\", conversation)"
   ]
  },
  {
   "cell_type": "code",
   "execution_count": null,
   "id": "51b7b73b-7dd3-4027-897a-6dee5d57b73e",
   "metadata": {},
   "outputs": [],
   "source": [
    "execute_convo(\"Guten Morgen! Danke. Ich habe drei jahre Projektmanagement Erfahrung und Team Leeitung\", conversation)"
   ]
  },
  {
   "cell_type": "code",
   "execution_count": null,
   "id": "b79c5d33-ae77-4fa8-a2f2-87b5b83454ca",
   "metadata": {},
   "outputs": [],
   "source": [
    "execute_convo(\"Guten Morgen! Danke. Ich habe drei Jahre Projektmanagement Erfahruung und Team Leitung\", conversation)"
   ]
  },
  {
   "cell_type": "code",
   "execution_count": null,
   "id": "0ecaf3f2-4f30-4b24-9e26-ab9471d7450a",
   "metadata": {},
   "outputs": [],
   "source": []
  },
  {
   "cell_type": "code",
   "execution_count": null,
   "id": "48510bbd-1b50-4e4d-a304-94b5793e9a7d",
   "metadata": {},
   "outputs": [],
   "source": []
  },
  {
   "cell_type": "code",
   "execution_count": null,
   "id": "9b8a8edc-9df5-4195-9c49-106d6386f345",
   "metadata": {},
   "outputs": [],
   "source": []
  }
 ],
 "metadata": {
  "kernelspec": {
   "display_name": "naija_highlights",
   "language": "python",
   "name": "naija_highlights"
  },
  "language_info": {
   "codemirror_mode": {
    "name": "ipython",
    "version": 3
   },
   "file_extension": ".py",
   "mimetype": "text/x-python",
   "name": "python",
   "nbconvert_exporter": "python",
   "pygments_lexer": "ipython3",
   "version": "3.9.16"
  }
 },
 "nbformat": 4,
 "nbformat_minor": 5
}
