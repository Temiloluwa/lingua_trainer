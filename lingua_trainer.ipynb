{
 "cells": [
  {
   "cell_type": "code",
   "execution_count": null,
   "id": "48197c88-9dab-4c34-a727-02edd7e40e5d",
   "metadata": {},
   "outputs": [],
   "source": [
    "import os\n",
    "import json\n",
    "import string\n",
    "from pprint import pprint\n",
    "from pathlib import Path\n",
    "from collections import defaultdict\n",
    "\n",
    "from dotenv import load_dotenv\n",
    "from langchain.llms import OpenAI\n",
    "\n",
    "from langchain.prompts import (\n",
    "    ChatPromptTemplate,\n",
    "    MessagesPlaceholder,\n",
    "    SystemMessagePromptTemplate,\n",
    "    HumanMessagePromptTemplate\n",
    ")\n",
    "from langchain.chains import ConversationChain\n",
    "from langchain.chat_models import ChatOpenAI\n",
    "from langchain.memory import ConversationBufferMemory\n",
    "\n",
    "\n",
    "load_dotenv()"
   ]
  },
  {
   "cell_type": "markdown",
   "id": "c37b5679-8dac-46ac-9f10-561dffef6181",
   "metadata": {},
   "source": [
    "## Scenarios\n",
    "\n",
    "1. Job Interview\n",
    "2. Apology and Forgiveness\n",
    "3. Parent-Child Interaction\n",
    "\n",
    "### Data Structure\n",
    "\n",
    "``` json\n",
    "{\n",
    "    \"theme\": \"job-interview\",\n",
    "    \"actors\": [{\"name\": \"Mr. John\", \"role\": \"interviewer\"}, \n",
    "               {\"name\": \"Jane\", \"role\": \"interviewee\"}],\n",
    "    \"conversation\": [{ \"call\": \"Hallo Jane, Wie geht's dir heute\", \n",
    "                       \"response\": \"I am fine, thank you.\", \n",
    "                        \"target\": \"Es geht mir gut, danke.\" }]\n",
    "}\n",
    "\n",
    "```"
   ]
  },
  {
   "cell_type": "markdown",
   "id": "6d6e6429-dcb1-41d0-9439-c6dea7610b8e",
   "metadata": {},
   "source": [
    "## Utils"
   ]
  },
  {
   "cell_type": "code",
   "execution_count": null,
   "id": "da3fcecf-54a6-4ab5-b45b-eca09ed5c968",
   "metadata": {},
   "outputs": [],
   "source": [
    "def load_json_file(file_path):\n",
    "    with open(file_path, 'r') as file:\n",
    "        data = json.load(file)\n",
    "    return data\n",
    "\n",
    "\n",
    "def get_roleplay_data(roleplay_path: str) -> list:\n",
    "    \"\"\"Get Roleplay Paths \"\"\"\n",
    "    roleplay_paths = [i for i in os.listdir(\"roleplay_data\") if i.endswith(\".json\")]\n",
    "    roleplay_data = [load_json_file(os.path.join(roleplay_path, i)) for i in roleplay_paths]\n",
    "    return roleplay_data"
   ]
  },
  {
   "cell_type": "code",
   "execution_count": null,
   "id": "d6dd05ce-d0ca-4d0d-be3c-42e9eba25386",
   "metadata": {},
   "outputs": [],
   "source": [
    "roleplay_data = get_roleplay_data(\"roleplay_data\")"
   ]
  },
  {
   "cell_type": "markdown",
   "id": "d3a17806-19c5-4f02-a6ab-f5cd46b5e883",
   "metadata": {},
   "source": [
    "## The Tutor"
   ]
  },
  {
   "cell_type": "code",
   "execution_count": null,
   "id": "a041d14c-3593-41e8-8368-20cc25ff0534",
   "metadata": {},
   "outputs": [],
   "source": [
    "from dotenv import load_dotenv\n",
    "from langchain.llms import OpenAI\n",
    "\n",
    "from langchain.prompts import (\n",
    "    ChatPromptTemplate,\n",
    "    MessagesPlaceholder,\n",
    "    SystemMessagePromptTemplate,\n",
    "    HumanMessagePromptTemplate,\n",
    "    AIMessagePromptTemplate\n",
    ")\n",
    "from langchain.chains import ConversationChain\n",
    "from langchain.chat_models import ChatOpenAI\n",
    "from langchain.memory import ConversationBufferMemory\n",
    "from langchain.cache import SQLiteCache\n",
    "import langchain\n",
    "\n",
    "\n",
    "#langchain.llm_cache = SQLiteCache(database_path=\".langchain.db\")\n",
    "load_dotenv()"
   ]
  },
  {
   "cell_type": "code",
   "execution_count": null,
   "id": "fc9f169e-fc75-4398-804d-572b1cd1281f",
   "metadata": {},
   "outputs": [],
   "source": [
    "def initialiaze_tutor(temperature: float=0.5):\n",
    "    prompt = ChatPromptTemplate.from_messages([\n",
    "    SystemMessagePromptTemplate.from_template(f\"\"\"\n",
    "        You are a German tutor that tries to help you student provide the correct German translation for an English statement.\n",
    "        For each of your student's responses provide constructive feedbacks and Hints to guide them to the right answer. \n",
    "        Applaud them when they finally get the right translation\n",
    "        \"\"\"                               \n",
    "    ),\n",
    "    AIMessagePromptTemplate.from_template(f\"Could you provide the German translation for this English sentence: {response_target}\"),\n",
    "    MessagesPlaceholder(variable_name=\"history\"),\n",
    "    HumanMessagePromptTemplate.from_template(\"{input}\")\n",
    "    ])\n",
    "\n",
    "\n",
    "    llm = ChatOpenAI(temperature=temperature)\n",
    "    memory = ConversationBufferMemory(return_messages=True)\n",
    "    conversation = ConversationChain(memory=memory, prompt=prompt, llm=llm, verbose=True)\n",
    "    return memory, conversation\n",
    "\n",
    "def execute_convo(conversation, input):\n",
    "    output = conversation.run(input=input)\n",
    "    print(output)"
   ]
  },
  {
   "cell_type": "code",
   "execution_count": null,
   "id": "cb663bf8-b17c-44d3-8284-b792f5be9de1",
   "metadata": {},
   "outputs": [],
   "source": [
    "call, call_target, response, response_target = roleplay_data[0][\"conversation\"][0].values()\n",
    "memory, conversation = initialiaze_tutor(0.4)\n",
    "initial_input = f\"\"\" \n",
    "Challenge:\n",
    "How would you say this English statement in German: {response_target}\n",
    "target answer: {response}. Remember not to provide the right answer until the student gets the answer.\n",
    "Provide helpful hints for the student. Avoid providing any translations in your hints.\n",
    "Give the student a maximum of three attempts before revealing the final answer.\n",
    "List my instructions and confirm your understanding of them\n",
    "\"\"\""
   ]
  },
  {
   "cell_type": "code",
   "execution_count": null,
   "id": "eeb57c6c-2b13-4625-9db8-a6a2da39b7ef",
   "metadata": {},
   "outputs": [],
   "source": [
    "execute_convo(conversation, initial_input)"
   ]
  },
  {
   "cell_type": "code",
   "execution_count": null,
   "id": "f1399802-a4b8-4e26-838b-b1adc76558fd",
   "metadata": {},
   "outputs": [],
   "source": [
    "execute_convo(conversation, \"Guten Morgen! Danke. Ich habe drei jahre ProjektManagement Erpharung und Team Leitung\")"
   ]
  },
  {
   "cell_type": "code",
   "execution_count": null,
   "id": "51b7b73b-7dd3-4027-897a-6dee5d57b73e",
   "metadata": {},
   "outputs": [],
   "source": [
    "execute_convo(conversation, \"Guten Morgen! Danke. Ich habe drei jahre Projektmanagement Erfahrung und Team Leitung\")"
   ]
  },
  {
   "cell_type": "code",
   "execution_count": null,
   "id": "b79c5d33-ae77-4fa8-a2f2-87b5b83454ca",
   "metadata": {},
   "outputs": [],
   "source": [
    "execute_convo(conversation, \"Guten Morgen! Danke. Ich habe drei Jahre Projektmanagement Erfahrung und Team Leitung\")"
   ]
  },
  {
   "cell_type": "code",
   "execution_count": null,
   "id": "0ecaf3f2-4f30-4b24-9e26-ab9471d7450a",
   "metadata": {},
   "outputs": [],
   "source": []
  },
  {
   "cell_type": "code",
   "execution_count": null,
   "id": "48510bbd-1b50-4e4d-a304-94b5793e9a7d",
   "metadata": {},
   "outputs": [],
   "source": []
  },
  {
   "cell_type": "code",
   "execution_count": null,
   "id": "9b8a8edc-9df5-4195-9c49-106d6386f345",
   "metadata": {},
   "outputs": [],
   "source": []
  },
  {
   "cell_type": "code",
   "execution_count": null,
   "id": "beaa6600-9251-4b6e-b418-e73b99931d30",
   "metadata": {},
   "outputs": [],
   "source": [
    "conversation.run(input=\"Guten Morgen! Danke. Ich habe drei jahre ProjektManagement Erpharung und Team Leitung\")"
   ]
  },
  {
   "cell_type": "code",
   "execution_count": null,
   "id": "14e33e8e-920c-4ca1-8979-17883fbde282",
   "metadata": {},
   "outputs": [],
   "source": [
    "conversation.run(input=\"Guten Morgen! Danke. Ich habe drei jahre Projektmanagement Erfahrung und Teamführung\")"
   ]
  }
 ],
 "metadata": {
  "kernelspec": {
   "display_name": "naija_highlights",
   "language": "python",
   "name": "naija_highlights"
  },
  "language_info": {
   "codemirror_mode": {
    "name": "ipython",
    "version": 3
   },
   "file_extension": ".py",
   "mimetype": "text/x-python",
   "name": "python",
   "nbconvert_exporter": "python",
   "pygments_lexer": "ipython3",
   "version": "3.9.16"
  }
 },
 "nbformat": 4,
 "nbformat_minor": 5
}
